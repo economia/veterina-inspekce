{
 "metadata": {
  "name": ""
 },
 "nbformat": 3,
 "nbformat_minor": 0,
 "worksheets": [
  {
   "cells": [
    {
     "cell_type": "code",
     "collapsed": false,
     "input": [
      "import requests\n",
      "import json\n",
      "import pandas as pd"
     ],
     "language": "python",
     "metadata": {},
     "outputs": [],
     "prompt_number": 1
    },
    {
     "cell_type": "markdown",
     "metadata": {},
     "source": [
      "Sta\u017een\u00ed bod\u016f s provozovnami."
     ]
    },
    {
     "cell_type": "code",
     "collapsed": false,
     "input": [
      "typs = {\"01\": \"Kontroly v tr\u017en\u00ed s\u00edti\", \"E01\": \"Kontroly v jatk\u00e1ch na \u010derven\u00e9 maso\", \"E02\": \"Kontroly v bour\u00e1rn\u00e1ch\", \"E03\": \"Kontroly v mraz\u00edrn\u00e1ch\", \"E04\": \"Kontroly v dr\u016fbe\u017e\u00edch por\u00e1\u017ek\u00e1ch\", \"E05\": \"Kontroly v dr\u016fbe\u017e\u00edch porcovn\u00e1ch\", \"E07\": \"Kontroly v masn\u00fdch v\u00fdrobn\u00e1ch\", \"E08\": \"Kontroly ve zpracovn\u00e1ch vajec\", \"E09\": \"Kontroly v t\u0159\u00edd\u00edrn\u00e1ch a bal\u00edrn\u00e1ch vajec\", \"E10\": \"Kontroly ve zpracovn\u00e1ch ryb\", \"E11\": \"Kontroly ve zpracovn\u00e1ch kr\u00e1l\u00edk\u016f a farm. zv\u011b\u0159e\", \"E12\": \"Kontroly ve zpracovn\u00e1ch zv\u011b\u0159iny\", \"E13\": \"Kontroly v ml\u00e9k\u00e1rn\u00e1ch\", \"P08\": \"Kontroly ve zpracovn\u00e1ch medu\", \"KMU\": \"Kontroly v m\u00edstech ur\u010den\u00ed (komodity z dovozu)\", \"P07\": \"Kontroly p\u0159\u00edm\u00e9ho prodeje ml\u00e9ka\", \"E30\": \"Kontroly ve v\u00fdr. mlet. a stroj. odd\u011bl. masa a polotovar\u016f\", \"KMUDR13\": \"MKA - dr\u016fbe\u017e\u00ed maso z dovozu\"}\n",
      "years = ['R2013', 'R2014']\n",
      "columns = ['E', 'N', 'adresa', 'bod_id', 'cz', 'ddata', 'nazev', 'typ_id', 'zdroj', 'typ', 'rok']"
     ],
     "language": "python",
     "metadata": {},
     "outputs": [],
     "prompt_number": 2
    },
    {
     "cell_type": "code",
     "collapsed": false,
     "input": [
      "master = pd.DataFrame(columns=columns)"
     ],
     "language": "python",
     "metadata": {},
     "outputs": [],
     "prompt_number": 3
    },
    {
     "cell_type": "code",
     "collapsed": false,
     "input": [
      "for year in years:\n",
      "    for typ in typs:\n",
      "        url = 'http://eagri.cz/public/app/svs_pub/mapy_vk/bin/maps_read_data.php'\n",
      "        headers = {'content-type': 'application/x-www-form-urlencoded; charset=UTF-8', }\n",
      "        form_data = {'type': 'data_bodu', 'mapa': typ, 'obdobi': year}\n",
      "\n",
      "        r = requests.post(url,data=form_data, headers=headers)\n",
      "\n",
      "        rawdata = json.loads(r.text.replace('\\ufeff\\ufeff',''))\n",
      "        data = pd.DataFrame(rawdata['rows'])\n",
      "        data['typ'] = typ\n",
      "        data['rok'] = year\n",
      "\n",
      "        master = master.append(data, ignore_index=True)"
     ],
     "language": "python",
     "metadata": {},
     "outputs": [],
     "prompt_number": 4
    },
    {
     "cell_type": "markdown",
     "metadata": {},
     "source": [
      "Sta\u017een\u00ed v\u00fdsledk\u016f kontrol dle id podnik\u016f."
     ]
    },
    {
     "cell_type": "code",
     "collapsed": false,
     "input": [
      "body = master.bod_id"
     ],
     "language": "python",
     "metadata": {},
     "outputs": [],
     "prompt_number": 5
    },
    {
     "cell_type": "code",
     "collapsed": false,
     "input": [
      "kontroly = pd.DataFrame(columns=['bod_id', 'nazev', 'popis', 'typ', 'pocet_akci', 'pocet_akci_pozit'])"
     ],
     "language": "python",
     "metadata": {},
     "outputs": [],
     "prompt_number": 6
    },
    {
     "cell_type": "code",
     "collapsed": false,
     "input": [
      "for bod in body:\n",
      "    try:\n",
      "        url = 'http://eagri.cz/public/app/svs_pub/mapy_vk/bin/maps_read_data.php'\n",
      "        headers = {'content-type': 'application/x-www-form-urlencoded; charset=UTF-8', }\n",
      "        form_data = {'type': 'detail', 'bod_id': bod}\n",
      "        r = requests.post(url,data=form_data, headers=headers)\n",
      "\n",
      "        rawdata = json.loads(r.text.replace('\\ufeff\\ufeff',''))\n",
      "        if (len(rawdata['rows']) == 0):\n",
      "            dict = {'bod_id': bod, 'pocet_akci': rawdata['pocet_akci'], 'pocet_akci_pozit': rawdata['pocet_akci_pozit']}\n",
      "            kontroly = kontroly.append(dict, ignore_index=True)\n",
      "        else:\n",
      "            data = pd.DataFrame(rawdata['rows'])\n",
      "            data['bod_id'] = bod\n",
      "            data['pocet_akci'] = rawdata['pocet_akci']\n",
      "            data['pocet_akci_pozit'] = rawdata['pocet_akci_pozit']\n",
      "            \n",
      "            kontroly = kontroly.append(data, ignore_index=True)\n",
      "    except:\n",
      "        print('Chyba u ID ' + str(bod))"
     ],
     "language": "python",
     "metadata": {},
     "outputs": [
      {
       "output_type": "stream",
       "stream": "stdout",
       "text": [
        "Chyba u ID 8389\n",
        "Chyba u ID 911"
       ]
      },
      {
       "output_type": "stream",
       "stream": "stdout",
       "text": [
        "\n",
        "Chyba u ID 11787"
       ]
      },
      {
       "output_type": "stream",
       "stream": "stdout",
       "text": [
        "\n"
       ]
      }
     ],
     "prompt_number": 7
    },
    {
     "cell_type": "code",
     "collapsed": false,
     "input": [
      "out = pd.merge(master, kontroly, on='bod_id', how='outer')"
     ],
     "language": "python",
     "metadata": {},
     "outputs": [],
     "prompt_number": 9
    },
    {
     "cell_type": "code",
     "collapsed": false,
     "input": [
      "out.to_csv('veterina_kontroly_all.csv', sep=';')"
     ],
     "language": "python",
     "metadata": {},
     "outputs": [],
     "prompt_number": 10
    }
   ],
   "metadata": {}
  }
 ]
}