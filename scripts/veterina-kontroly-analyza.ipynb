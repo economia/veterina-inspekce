{
 "metadata": {
  "name": ""
 },
 "nbformat": 3,
 "nbformat_minor": 0,
 "worksheets": [
  {
   "cells": [
    {
     "cell_type": "code",
     "collapsed": false,
     "input": [
      "import pandas as pd\n",
      "import numpy as np\n",
      "from datetime import datetime\n",
      "from dateutil.parser import parse"
     ],
     "language": "python",
     "metadata": {},
     "outputs": [],
     "prompt_number": 1
    },
    {
     "cell_type": "code",
     "collapsed": false,
     "input": [
      "data_all = pd.DataFrame.from_csv('veterina_kontroly_all.csv', sep=';')\n",
      "data_all = data_all.drop_duplicates(cols=['adresa', 'cz', 'datum', 'popis'])\n",
      "data = data_all[data_all.rok == 'R2013']"
     ],
     "language": "python",
     "metadata": {},
     "outputs": [],
     "prompt_number": 2
    },
    {
     "cell_type": "code",
     "collapsed": false,
     "input": [
      "def dateparser(date):\n",
      "    if (date != date):\n",
      "        return date\n",
      "    else:\n",
      "        return parse(date)\n",
      "\n",
      "data.datum = data.datum.map(lambda x: dateparser(x))"
     ],
     "language": "python",
     "metadata": {},
     "outputs": [],
     "prompt_number": 3
    },
    {
     "cell_type": "code",
     "collapsed": false,
     "input": [
      "data.datum = pd.to_datetime(data.datum)"
     ],
     "language": "python",
     "metadata": {},
     "outputs": [],
     "prompt_number": 4
    },
    {
     "cell_type": "code",
     "collapsed": false,
     "input": [
      "data"
     ],
     "language": "python",
     "metadata": {},
     "outputs": [
      {
       "html": [
        "<pre>\n",
        "&lt;class 'pandas.core.frame.DataFrame'&gt;\n",
        "Int64Index: 8666 entries, 0 to 12261\n",
        "Data columns (total 17 columns):\n",
        "E                   8547  non-null values\n",
        "N                   8547  non-null values\n",
        "adresa              8666  non-null values\n",
        "bod_id              8666  non-null values\n",
        "cz                  8666  non-null values\n",
        "ddata               0  non-null values\n",
        "nazev_x             8666  non-null values\n",
        "rok                 8666  non-null values\n",
        "typ_x               8666  non-null values\n",
        "typ_id              8666  non-null values\n",
        "zdroj               8547  non-null values\n",
        "datum               1667  non-null values\n",
        "nazev_y             1667  non-null values\n",
        "pocet_akci          8664  non-null values\n",
        "pocet_akci_pozit    8664  non-null values\n",
        "popis               1667  non-null values\n",
        "typ_y               1667  non-null values\n",
        "dtypes: datetime64[ns](1), float64(5), int64(2), object(9)\n",
        "</pre>"
       ],
       "metadata": {},
       "output_type": "pyout",
       "prompt_number": 5,
       "text": [
        "<class 'pandas.core.frame.DataFrame'>\n",
        "Int64Index: 8666 entries, 0 to 12261\n",
        "Data columns (total 17 columns):\n",
        "E                   8547  non-null values\n",
        "N                   8547  non-null values\n",
        "adresa              8666  non-null values\n",
        "bod_id              8666  non-null values\n",
        "cz                  8666  non-null values\n",
        "ddata               0  non-null values\n",
        "nazev_x             8666  non-null values\n",
        "rok                 8666  non-null values\n",
        "typ_x               8666  non-null values\n",
        "typ_id              8666  non-null values\n",
        "zdroj               8547  non-null values\n",
        "datum               1667  non-null values\n",
        "nazev_y             1667  non-null values\n",
        "pocet_akci          8664  non-null values\n",
        "pocet_akci_pozit    8664  non-null values\n",
        "popis               1667  non-null values\n",
        "typ_y               1667  non-null values\n",
        "dtypes: datetime64[ns](1), float64(5), int64(2), object(9)"
       ]
      }
     ],
     "prompt_number": 5
    },
    {
     "cell_type": "code",
     "collapsed": false,
     "input": [
      "def inter(x):\n",
      "    if (x != x):\n",
      "        return 0\n",
      "    else:\n",
      "        return int(x) * 1.0\n",
      "    \n",
      "data.pocet_akci_pozit = data.pocet_akci_pozit.map(lambda x: inter(x))"
     ],
     "language": "python",
     "metadata": {},
     "outputs": [],
     "prompt_number": 6
    },
    {
     "cell_type": "code",
     "collapsed": false,
     "input": [
      "def cleaner(dirty):\n",
      "    try:\n",
      "        return dirty.replace('<span class=\"tip\" title=\"krajsk\u00e1 veterin\u00e1rn\u00ed spr\u00e1va\"> KVS </span>','')\n",
      "    except:\n",
      "        return dirty\n",
      "\n",
      "data.nazev_y = data.nazev_y.map(lambda x: cleaner(x))"
     ],
     "language": "python",
     "metadata": {},
     "outputs": [],
     "prompt_number": 7
    },
    {
     "cell_type": "code",
     "collapsed": false,
     "input": [
      "typy_kontrol = {\"01\": \"Kontroly v tr\u017en\u00ed s\u00edti\", \"E01\": \"Kontroly v jatk\u00e1ch na \u010derven\u00e9 maso\", \"E02\": \"Kontroly v bour\u00e1rn\u00e1ch\", \"E03\": \"Kontroly v mraz\u00edrn\u00e1ch\", \"E04\": \"Kontroly v dr\u016fbe\u017e\u00edch por\u00e1\u017ek\u00e1ch\", \"E05\": \"Kontroly v dr\u016fbe\u017e\u00edch porcovn\u00e1ch\", \"E07\": \"Kontroly v masn\u00fdch v\u00fdrobn\u00e1ch\", \"E08\": \"Kontroly ve zpracovn\u00e1ch vajec\", \"E09\": \"Kontroly v t\u0159\u00edd\u00edrn\u00e1ch a bal\u00edrn\u00e1ch vajec\", \"E10\": \"Kontroly ve zpracovn\u00e1ch ryb\", \"E11\": \"Kontroly ve zpracovn\u00e1ch kr\u00e1l\u00edk\u016f a farm. zv\u011b\u0159e\", \"E12\": \"Kontroly ve zpracovn\u00e1ch zv\u011b\u0159iny\", \"E13\": \"Kontroly v ml\u00e9k\u00e1rn\u00e1ch\", \"P08\": \"Kontroly ve zpracovn\u00e1ch medu\", \"KMU\": \"Kontroly v m\u00edstech ur\u010den\u00ed (komodity z dovozu)\", \"P07\": \"Kontroly p\u0159\u00edm\u00e9ho prodeje ml\u00e9ka\", \"E30\": \"Kontroly ve v\u00fdr. mlet. a stroj. odd\u011bl. masa a polotovar\u016f\", \"KMUDR13\": \"MKA - dr\u016fbe\u017e\u00ed maso z dovozu\"}\n",
      "\n",
      "data.typ_x = data.typ_x.map(typy_kontrol)"
     ],
     "language": "python",
     "metadata": {},
     "outputs": [],
     "prompt_number": 8
    },
    {
     "cell_type": "code",
     "collapsed": false,
     "input": [
      "data.to_csv('veterina-export.csv', sep=';')"
     ],
     "language": "python",
     "metadata": {},
     "outputs": [],
     "prompt_number": 9
    },
    {
     "cell_type": "heading",
     "level": 2,
     "metadata": {},
     "source": [
      "Nejv\u00edce kontrol"
     ]
    },
    {
     "cell_type": "code",
     "collapsed": false,
     "input": [
      "data[(data.popis == data.popis)].nazev_x.value_counts().order(ascending=False).head(60)"
     ],
     "language": "python",
     "metadata": {},
     "outputs": [
      {
       "metadata": {},
       "output_type": "pyout",
       "prompt_number": 18,
       "text": [
        "Nov\u00e1k maso - uzeniny                                   48\n",
        "ENES FLEISCH s.r.o.                                    38\n",
        "PMU CZ, a.s.                                           33\n",
        "MRAZ\u00cdRNY PLZE\u0147 - DY\u0160INA a.s.                           17\n",
        "Kosteleck\u00e9 uzeniny a.s.                                16\n",
        "\u0158eznictv\u00ed H+H, s.r.o.                                  14\n",
        "Bidvest Czech Republic s.r.o.                          13\n",
        "Nov\u00e1k maso - uzeniny ZIMBO CZECHIA s.r.o.              13\n",
        "ZEMAN maso - uzeniny                                   13\n",
        "V\u00e1clav Bl\u00e1ha                                           12\n",
        "Arno\u0161t Dvo\u0159\u00e1k \u0158EZNICTV\u00cd UZEN\u00c1\u0158STV\u00cd                     12\n",
        "Old\u0159ich \u010cejka                                          12\n",
        "\u0158eznictv\u00ed a uzen\u00e1\u0159stv\u00ed                                 11\n",
        "Kub\u00edk a.s.                                             11\n",
        "PMU CZ, a.s., Pardubice                                10\n",
        "Jatky Moravsk\u00fd Krumlov, spol. s r.o.                   10\n",
        "Orlick\u00e9 uzeniny, s.r.o.                                10\n",
        "Tesco Stores \u010cR a.s.                                   10\n",
        "Tesco Express                                          10\n",
        "Jatky Blovice - prodejna P\u0159e\u0161tice                       9\n",
        "Pavel Huben\u00fd                                            9\n",
        "Mieczyslaw Marian Kepi\u0148ski                              9\n",
        "T\u011b\u0161\u00ednsk\u00e9 jatky, s.r.o.                                  9\n",
        "KOV\u00c1\u0158 plus s.r.o.                                       9\n",
        "Selsk\u00e1 pek\u00e1rna spol. s r.o.                             8\n",
        "Zem\u011bd\u011blsk\u00e9 dru\u017estvo Rosice u Chrasti                    8\n",
        "Jatka MADESA, dru\u017estvo                                  8\n",
        "Josef Pecina                                            8\n",
        "PEVAL PLUS s.r.o.                                       8\n",
        "M.U.S.P, a.s., Jatky Plze\u0148                              8\n",
        "Farm\u00e1\u0159sk\u00fd trh Zbiroh                                    8\n",
        "MASO UZENINY P\u00cdSEK, a.s.                                7\n",
        "maso - uzeniny NOV\u00c1K                                    7\n",
        "MACHA\u010c - MALOKAPACITN\u00cd JATKA s.r.o.                     7\n",
        "Miroslav Urban                                          7\n",
        "\u0158EZNICTV\u00cd HRDLI\u010cKA s.r.o.                               7\n",
        "Dr\u016fbe\u017e\u00e1\u0159sk\u00fd z\u00e1vod Klatovy a.s.                          6\n",
        "Miroslav Bu\u010dek                                          6\n",
        "Maso - uzeniny FABU\u0160 Praha s.r.o.                       6\n",
        "ORRERO a.s.                                             6\n",
        "Jatky Blovice s.r.o. - prodejna Plze\u0148 Doubravka         6\n",
        "Globus Brno Ivanovice                                   6\n",
        "Zdislav Sobotka                                         6\n",
        "OCEAN48 s.r.o.                                          6\n",
        "Nov\u00e1k maso-uzeniny                                      6\n",
        "Jan Bielesz s.r.o.                                      6\n",
        "UZENINY KO\u0158\u00cdNEK s.r.o.                                  6\n",
        "MD logistika, a.s.                                      6\n",
        "ZIMBO CZECHIA s.r.o.                                    6\n",
        "V\u011bra Mandincov\u00e1 - M+V                                   5\n",
        "MP Kr\u00e1sno, a.s.                                         5\n",
        "\u0158eznictv\u00ed a uzen\u00e1\u0159stv\u00ed Sedl\u00e1k s.r.o.                    5\n",
        "Sl\u00e1ma-Hejna, v.o.s.                                     5\n",
        "Potraviny a prodejna masa a uzenin, Ivana Brisudov\u00e1     5\n",
        "\u0158EZNICTV\u00cd SLOUPNICE s.r.o.                              5\n",
        "M\u011bstsk\u00e1 tr\u017enice                                         5\n",
        "Jatka Mostky                                            5\n",
        "Lum\u00edr Rejmont - \u0158eznictv\u00ed u Lum\u00edra                      5\n",
        "Lidl \u010cesk\u00e1 republika v.o.s.                             5\n",
        "\u0158EZNAB s. r. o., Otto L\u00e1ry\u0161, \u0159eznictv\u00ed a uzen\u00e1\u0159stv\u00ed     5\n",
        "Length: 60, dtype: int64"
       ]
      }
     ],
     "prompt_number": 18
    },
    {
     "cell_type": "code",
     "collapsed": false,
     "input": [
      "nalezy = pd.DataFrame(data[(data.nazev_y == data.popis)].nazev_x.value_counts().order(ascending=False))\n",
      "nalezy = nalezy.reset_index()\n",
      "zkontrolovano = pd.DataFrame(data.nazev_x.value_counts().order(ascending=False))\n",
      "zkontrolovano = zkontrolovano.reset_index()\n",
      "\n",
      "pomer = pd.merge(nalezy, zkontrolovano, on='index', how='outer')\n",
      "pomer['pomer'] = pomer['0_x'] / pomer['0_y']\n",
      "\n",
      "\n",
      "pomer[(pomer['0_x'] >= 10) & (pomer['0_y'] >= 10)].sort(columns='pomer', ascending=False).head(20)"
     ],
     "language": "python",
     "metadata": {},
     "outputs": [
      {
       "html": [
        "<div style=\"max-height:1000px;max-width:1500px;overflow:auto;\">\n",
        "<table border=\"1\" class=\"dataframe\">\n",
        "  <tbody>\n",
        "    <tr>\n",
        "      <td>Int64Index([], dtype=int64)</td>\n",
        "      <td>Empty DataFrame</td>\n",
        "    </tr>\n",
        "  </tbody>\n",
        "</table>\n",
        "</div>"
       ],
       "metadata": {},
       "output_type": "pyout",
       "prompt_number": 11,
       "text": [
        "Empty DataFrame\n",
        "Columns: [0_x, index, 0_y, pomer]\n",
        "Index: []"
       ]
      }
     ],
     "prompt_number": 11
    },
    {
     "cell_type": "code",
     "collapsed": false,
     "input": [
      "data[(data.nazev_x == 'Old\u0159ich \u010cejka')].to_csv('cejka_pochybeni.csv', sep=';')"
     ],
     "language": "python",
     "metadata": {},
     "outputs": [],
     "prompt_number": 12
    },
    {
     "cell_type": "heading",
     "level": 2,
     "metadata": {},
     "source": [
      "Nej\u010dast\u011bji kontrolovan\u00ed"
     ]
    },
    {
     "cell_type": "code",
     "collapsed": false,
     "input": [
      "data.nazev_x.value_counts().order(ascending=False).head(20)"
     ],
     "language": "python",
     "metadata": {},
     "outputs": [
      {
       "metadata": {},
       "output_type": "pyout",
       "prompt_number": 13,
       "text": [
        "Penny Market s.r.o.                          252\n",
        "PMU CZ, a.s.                                 140\n",
        "Lidl \u010cesk\u00e1 republika v.o.s.                  125\n",
        "Nov\u00e1k maso - uzeniny                          77\n",
        "Kaufland \u010cesk\u00e1 republika v.o.s.               75\n",
        "TEMPO, obchodn\u00ed dru\u017estvo                      58\n",
        "RABBIT Trhov\u00fd \u0160t\u011bp\u00e1nov a.s.                   52\n",
        "Tesco Stores \u010cR a.s.                          49\n",
        "ZEMAN maso - uzeniny                          42\n",
        "Tesco Express                                 39\n",
        "ENES FLEISCH s.r.o.                           39\n",
        "\u0158eznictv\u00ed a uzen\u00e1\u0159stv\u00ed                        36\n",
        "Nov\u00e1k maso - uzeniny ZIMBO CZECHIA s.r.o.     34\n",
        "AHOLD Czech Republic, a.s.                    33\n",
        "\u0158eznictv\u00ed H+H, s.r.o.                         29\n",
        "INPOST, spol. s r.o.                          26\n",
        "T\u011b\u0161\u00ednsk\u00e9 jatky, s.r.o.                        26\n",
        "HRU\u0160KA, spol. s r.o.                          25\n",
        "BILLA, spol. s r.o.                           25\n",
        "Kosteleck\u00e9 uzeniny a.s.                       21\n",
        "dtype: int64"
       ]
      }
     ],
     "prompt_number": 13
    },
    {
     "cell_type": "heading",
     "level": 2,
     "metadata": {},
     "source": [
      "Nej\u010dast\u011bj\u0161\u00ed z\u00e1vady dle producent\u016f"
     ]
    },
    {
     "cell_type": "code",
     "collapsed": false,
     "input": [
      "data[(data.pocet_akci > 0) & (data.typ_x != 'Kontroly v tr\u017en\u00ed s\u00edti')].groupby(['nazev_x', 'typ_x']).typ_x.value_counts().order(ascending=False).head(30)"
     ],
     "language": "python",
     "metadata": {},
     "outputs": [
      {
       "metadata": {},
       "output_type": "pyout",
       "prompt_number": 14,
       "text": [
        "nazev_x                                    typ_x                                                                                                             \n",
        "PMU CZ, a.s.                               Kontroly v bour\u00e1rn\u00e1ch                                     Kontroly v bour\u00e1rn\u00e1ch                                       90\n",
        "Nov\u00e1k maso - uzeniny                       Kontroly ve v\u00fdr. mlet. a stroj. odd\u011bl. masa a polotovar\u016f  Kontroly ve v\u00fdr. mlet. a stroj. odd\u011bl. masa a polotovar\u016f    35\n",
        "ENES FLEISCH s.r.o.                        Kontroly v bour\u00e1rn\u00e1ch                                     Kontroly v bour\u00e1rn\u00e1ch                                       32\n",
        "Nov\u00e1k maso - uzeniny                       Kontroly v bour\u00e1rn\u00e1ch                                     Kontroly v bour\u00e1rn\u00e1ch                                       31\n",
        "Nov\u00e1k maso - uzeniny ZIMBO CZECHIA s.r.o.  Kontroly v bour\u00e1rn\u00e1ch                                     Kontroly v bour\u00e1rn\u00e1ch                                       22\n",
        "BILLA, spol. s r.o.                        Kontroly v bour\u00e1rn\u00e1ch                                     Kontroly v bour\u00e1rn\u00e1ch                                       14\n",
        "Tesco Stores \u010cR a.s.                       Kontroly v bour\u00e1rn\u00e1ch                                     Kontroly v bour\u00e1rn\u00e1ch                                       13\n",
        "\u0158eznictv\u00ed a uzen\u00e1\u0159stv\u00ed                     Kontroly v bour\u00e1rn\u00e1ch                                     Kontroly v bour\u00e1rn\u00e1ch                                       12\n",
        "TWIST CZ s.r.o.                            Kontroly v m\u00edstech ur\u010den\u00ed (komodity z dovozu)             Kontroly v m\u00edstech ur\u010den\u00ed (komodity z dovozu)               12\n",
        "MRAZ\u00cdRNY PLZE\u0147 - DY\u0160INA a.s.               Kontroly v mraz\u00edrn\u00e1ch                                     Kontroly v mraz\u00edrn\u00e1ch                                       12\n",
        "Kosteleck\u00e9 uzeniny a.s.                    Kontroly v masn\u00fdch v\u00fdrobn\u00e1ch                              Kontroly v masn\u00fdch v\u00fdrobn\u00e1ch                                11\n",
        "Bidvest Czech Republic s.r.o.              Kontroly v mraz\u00edrn\u00e1ch                                     Kontroly v mraz\u00edrn\u00e1ch                                       11\n",
        "V\u00e1clav Bl\u00e1ha                               Kontroly v masn\u00fdch v\u00fdrobn\u00e1ch                              Kontroly v masn\u00fdch v\u00fdrobn\u00e1ch                                 9\n",
        "NOV\u00c1K maso - uzeniny                       Kontroly v bour\u00e1rn\u00e1ch                                     Kontroly v bour\u00e1rn\u00e1ch                                        9\n",
        "KOV\u00c1\u0158 plus s.r.o.                          Kontroly v mraz\u00edrn\u00e1ch                                     Kontroly v mraz\u00edrn\u00e1ch                                        9\n",
        "ZIMBO CZECHIA s.r.o., NOV\u00c1K MASO UZENINY   Kontroly v bour\u00e1rn\u00e1ch                                     Kontroly v bour\u00e1rn\u00e1ch                                        8\n",
        "Pavel Huben\u00fd                               Kontroly v masn\u00fdch v\u00fdrobn\u00e1ch                              Kontroly v masn\u00fdch v\u00fdrobn\u00e1ch                                 8\n",
        "ZIMBO CZECHIA s.r.o.                       Kontroly v bour\u00e1rn\u00e1ch                                     Kontroly v bour\u00e1rn\u00e1ch                                        7\n",
        "PMU CZ, a.s.                               Kontroly ve v\u00fdr. mlet. a stroj. odd\u011bl. masa a polotovar\u016f  Kontroly ve v\u00fdr. mlet. a stroj. odd\u011bl. masa a polotovar\u016f     7\n",
        "Nov\u00e1k maso-uzeniny                         Kontroly v bour\u00e1rn\u00e1ch                                     Kontroly v bour\u00e1rn\u00e1ch                                        7\n",
        "Kub\u00edk a.s.                                 Kontroly v bour\u00e1rn\u00e1ch                                     Kontroly v bour\u00e1rn\u00e1ch                                        7\n",
        "CARNEX spol. s r.o.                        Kontroly v m\u00edstech ur\u010den\u00ed (komodity z dovozu)             Kontroly v m\u00edstech ur\u010den\u00ed (komodity z dovozu)                7\n",
        "\u0158eznictv\u00ed a uzen\u00e1\u0159stv\u00ed                     Kontroly v masn\u00fdch v\u00fdrobn\u00e1ch                              Kontroly v masn\u00fdch v\u00fdrobn\u00e1ch                                 6\n",
        "Zdislav Sobotka                            Kontroly v dr\u016fbe\u017e\u00edch por\u00e1\u017ek\u00e1ch                            Kontroly v dr\u016fbe\u017e\u00edch por\u00e1\u017ek\u00e1ch                               6\n",
        "PODNIKOV\u00c1 PRODEJNA MILTRA, MORAVAN         Kontroly v m\u00edstech ur\u010den\u00ed (komodity z dovozu)             Kontroly v m\u00edstech ur\u010den\u00ed (komodity z dovozu)                6\n",
        "ORRERO a.s.                                Kontroly v ml\u00e9k\u00e1rn\u00e1ch                                     Kontroly v ml\u00e9k\u00e1rn\u00e1ch                                        6\n",
        "Jatky Sojka s.r.o.                         Kontroly v bour\u00e1rn\u00e1ch                                     Kontroly v bour\u00e1rn\u00e1ch                                        6\n",
        "Jan Bielesz s.r.o.                         Kontroly v m\u00edstech ur\u010den\u00ed (komodity z dovozu)             Kontroly v m\u00edstech ur\u010den\u00ed (komodity z dovozu)                6\n",
        "ZEMAN maso - uzeniny                       Kontroly v bour\u00e1rn\u00e1ch                                     Kontroly v bour\u00e1rn\u00e1ch                                        5\n",
        "V\u00edt \u010cechm\u00e1nek                              Kontroly v bour\u00e1rn\u00e1ch                                     Kontroly v bour\u00e1rn\u00e1ch                                        5\n",
        "dtype: int64"
       ]
      }
     ],
     "prompt_number": 14
    },
    {
     "cell_type": "code",
     "collapsed": false,
     "input": [
      "data.groupby('typ_x').typ_x.value_counts().order(ascending=False).head(10)"
     ],
     "language": "python",
     "metadata": {},
     "outputs": [
      {
       "metadata": {},
       "output_type": "pyout",
       "prompt_number": 15,
       "text": [
        "typ_x                                                                                                             \n",
        "Kontroly v tr\u017en\u00ed s\u00edti                                     Kontroly v tr\u017en\u00ed s\u00edti                                       4745\n",
        "Kontroly v bour\u00e1rn\u00e1ch                                     Kontroly v bour\u00e1rn\u00e1ch                                       1694\n",
        "Kontroly v m\u00edstech ur\u010den\u00ed (komodity z dovozu)             Kontroly v m\u00edstech ur\u010den\u00ed (komodity z dovozu)                512\n",
        "Kontroly v masn\u00fdch v\u00fdrobn\u00e1ch                              Kontroly v masn\u00fdch v\u00fdrobn\u00e1ch                                 470\n",
        "Kontroly p\u0159\u00edm\u00e9ho prodeje ml\u00e9ka                            Kontroly p\u0159\u00edm\u00e9ho prodeje ml\u00e9ka                               333\n",
        "Kontroly v mraz\u00edrn\u00e1ch                                     Kontroly v mraz\u00edrn\u00e1ch                                        184\n",
        "Kontroly v ml\u00e9k\u00e1rn\u00e1ch                                     Kontroly v ml\u00e9k\u00e1rn\u00e1ch                                        139\n",
        "Kontroly ve zpracovn\u00e1ch medu                              Kontroly ve zpracovn\u00e1ch medu                                 128\n",
        "Kontroly ve v\u00fdr. mlet. a stroj. odd\u011bl. masa a polotovar\u016f  Kontroly ve v\u00fdr. mlet. a stroj. odd\u011bl. masa a polotovar\u016f      86\n",
        "Kontroly ve zpracovn\u00e1ch zv\u011b\u0159iny                           Kontroly ve zpracovn\u00e1ch zv\u011b\u0159iny                               78\n",
        "dtype: int64"
       ]
      }
     ],
     "prompt_number": 15
    },
    {
     "cell_type": "code",
     "collapsed": false,
     "input": [
      "data.groupby(['typ_x', 'nazev_y']).nazev_y.value_counts().order(ascending=False).head(20)"
     ],
     "language": "python",
     "metadata": {},
     "outputs": [
      {
       "metadata": {},
       "output_type": "pyout",
       "prompt_number": 16,
       "text": [
        "typ_x                                                     nazev_y                                                                                                                                                           \n",
        "Kontroly v tr\u017en\u00ed s\u00edti                                     chlad\u00edc\u00ed \u0159et\u011bzec                                                                  chlad\u00edc\u00ed \u0159et\u011bzec                                                                    112\n",
        "                                                          teplotn\u00ed \u0159et\u011bzec                                                                  teplotn\u00ed \u0159et\u011bzec                                                                     99\n",
        "                                                          skladov\u00e1n\u00ed surovin a potravin                                                     skladov\u00e1n\u00ed surovin a potravin                                                        87\n",
        "                                                          ozna\u010dov\u00e1n\u00ed a balen\u00ed potravin                                                      ozna\u010dov\u00e1n\u00ed a balen\u00ed potravin                                                         85\n",
        "                                                          posouzen\u00ed<span class=\"tip\" title=\"datum minim\u00e1ln\u00ed trvanlivosti\"> DMT </span>/ DP  posouzen\u00ed<span class=\"tip\" title=\"datum minim\u00e1ln\u00ed trvanlivosti\"> DMT </span>/ DP     77\n",
        "                                                          ozna\u010den\u00ed suroviny / potraviny                                                     ozna\u010den\u00ed suroviny / potraviny                                                        75\n",
        "                                                          spr\u00e1vn\u00e1 hygienick\u00e1 praxe                                                          spr\u00e1vn\u00e1 hygienick\u00e1 praxe                                                             52\n",
        "Kontroly v masn\u00fdch v\u00fdrobn\u00e1ch                              \u010di\u0161t\u011bn\u00ed a sanitace                                                                \u010di\u0161t\u011bn\u00ed a sanitace                                                                   52\n",
        "Kontroly v bour\u00e1rn\u00e1ch                                     \u010di\u0161t\u011bn\u00ed a sanitace                                                                \u010di\u0161t\u011bn\u00ed a sanitace                                                                   50\n",
        "Kontroly v masn\u00fdch v\u00fdrobn\u00e1ch                              zdravotn\u00ed nez\u00e1vadnost                                                             zdravotn\u00ed nez\u00e1vadnost                                                                40\n",
        "Kontroly v tr\u017en\u00ed s\u00edti                                     sledovatelnost suroviny / potraviny (od koho, komu)                               sledovatelnost suroviny / potraviny (od koho, komu)                                  32\n",
        "                                                          sledovatelnost                                                                    sledovatelnost                                                                       28\n",
        "                                                          syst\u00e9m vlastn\u00ed kontroly                                                           syst\u00e9m vlastn\u00ed kontroly                                                              26\n",
        "Kontroly ve v\u00fdr. mlet. a stroj. odd\u011bl. masa a polotovar\u016f  syst\u00e9m vlastn\u00ed kontroly                                                           syst\u00e9m vlastn\u00ed kontroly                                                              25\n",
        "Kontroly v tr\u017en\u00ed s\u00edti                                     \u010di\u0161t\u011bn\u00ed a sanitace                                                                \u010di\u0161t\u011bn\u00ed a sanitace                                                                   24\n",
        "                                                          ostatn\u00ed (s nutnost\u00ed popisu)                                                       ostatn\u00ed (s nutnost\u00ed popisu)                                                          23\n",
        "                                                          potravin\u00e1\u0159sk\u00e9 prostory                                                            potravin\u00e1\u0159sk\u00e9 prostory                                                               19\n",
        "Kontroly v masn\u00fdch v\u00fdrobn\u00e1ch                              spr\u00e1vn\u00e1 hygienick\u00e1 praxe                                                          spr\u00e1vn\u00e1 hygienick\u00e1 praxe                                                             19\n",
        "                                                          ozna\u010dov\u00e1n\u00ed a balen\u00ed potravin                                                      ozna\u010dov\u00e1n\u00ed a balen\u00ed potravin                                                         19\n",
        "                                                          ostatn\u00ed (s nutnost\u00ed popisu)                                                       ostatn\u00ed (s nutnost\u00ed popisu)                                                          18\n",
        "dtype: int64"
       ]
      }
     ],
     "prompt_number": 16
    }
   ],
   "metadata": {}
  }
 ]
}